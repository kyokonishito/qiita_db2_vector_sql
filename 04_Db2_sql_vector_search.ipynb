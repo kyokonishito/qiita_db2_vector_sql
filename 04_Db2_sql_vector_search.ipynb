{
 "cells": [
  {
   "cell_type": "markdown",
   "id": "e74cfcd5",
   "metadata": {},
   "source": [
    "# 04. SQLでベクトル検索"
   ]
  },
  {
   "cell_type": "markdown",
   "id": "de68311f",
   "metadata": {},
   "source": [
    "### 1. Embeddingモデルを作成\n",
    "- 現状はSQLだけではベクトルデータが作成できません。\n",
    "- HuggingFaceのEmbeddingsモデル　ここでは`intfloat/multilingual-e5-large`を使います\n",
    "\n",
    "- https://huggingface.co/intfloat/multilingual-e5-large\n"
   ]
  },
  {
   "cell_type": "code",
   "execution_count": null,
   "id": "025d5538",
   "metadata": {},
   "outputs": [],
   "source": [
    "from langchain_huggingface import HuggingFaceEmbeddings\n",
    "from tqdm import tqdm\n",
    "\n",
    "embeddings = HuggingFaceEmbeddings(model_name=\"intfloat/multilingual-e5-large\")"
   ]
  },
  {
   "cell_type": "markdown",
   "id": "85baebc5",
   "metadata": {},
   "source": [
    "### 2. Jupyter NotebookでDb2 Magic Commands拡張機能を有効にする\n",
    "参考: [Jupyter NotebookからDb2に簡単アクセス](https://qiita.com/nishikyon/items/b0d0262950e890349f29)"
   ]
  },
  {
   "cell_type": "code",
   "execution_count": null,
   "id": "5c0a25de",
   "metadata": {},
   "outputs": [],
   "source": [
    "import os\n",
    "# Jupyter NotebookでDb2 Magic Commands拡張機能を有効にする\n",
    "if not os.path.isfile('db2.ipynb'):\n",
    "    os.system('wget https://raw.githubusercontent.com/IBM/db2-jupyter/master/db2.ipynb')\n",
    "\n",
    "%run db2.ipynb"
   ]
  },
  {
   "cell_type": "markdown",
   "id": "987febc9",
   "metadata": {},
   "source": [
    "### 3. Db2へ接続"
   ]
  },
  {
   "cell_type": "code",
   "execution_count": null,
   "id": "fb004bed",
   "metadata": {},
   "outputs": [],
   "source": [
    "from dotenv import dotenv_values\n",
    "\n",
    "# .envファイルを読み込む\n",
    "# 事前にsample_env を 参考に .envを作成しておく\n",
    "\n",
    "con_str = dotenv_values(\".env\")\n",
    "database = con_str.get(\"database\")\n",
    "user=con_str.get(\"uid\")\n",
    "password=con_str.get(\"pwd\")\n",
    "host=con_str.get(\"hostname\")\n",
    "port=con_str.get(\"port\")\n",
    "\n",
    "# SSL接続の場合はSSL TRUEを最後に付与する\n",
    "%sql CONNECT TO {database} USER {user} USING {password} HOST {host} port {port}"
   ]
  },
  {
   "cell_type": "markdown",
   "id": "c7a48afd",
   "metadata": {},
   "source": [
    "### 6. SQLで類似検索\n",
    "データができましたので、SQLでベクトル検索してみましょう！\n",
    "\n",
    "SQLでベクトル検索(==類似検索)するには、[VECTOR_DISTANCE関数](https://www.ibm.com/docs/en/db2/12.1.0?topic=functions-vector-distance)を使って、ベクトル間の距離を出し、距離が近いものほど似ているとして検索します。\n",
    "\n",
    "```:Syntax\n",
    "VECTOR_DISTANCE(vector1,vector2, metric)\n",
    "```\n",
    "\n",
    "#### 6-1. 人気のイタリア館、人気すぎて入れそうにないので、似たパビリオンないかな？\n",
    "\n",
    "\n",
    "-> イタリア館のEMBEDDINGとの距離が近いレコードを検索\n",
    "\n",
    "既に入っているEMBEDDING同士を比較するなら、再度ベクトル化不要!\n",
    "\n",
    "WHERE文で条件も付加\n",
    "\n",
    "\n",
    "SQL:\n",
    "```sql\n",
    "SELECT \n",
    "    ID, カテゴリー, パビリオン名, 主観評価, 事前予約, 見学タイプ, 混雑度, 見どころ, 詳細, おとな向け評価, おとなコメント, 中高生向け評価, 中高生コメント, 子連れ向け評価, 子連れコメント,\n",
    "    VECTOR_DISTANCE(\n",
    "        (SELECT EMBEDDING FROM VECTEST.EXPO_INFO WHERE パビリオン名 = 'イタリア  バチカン'),\n",
    "        EMBEDDING, \n",
    "        COSINE\n",
    "    ) AS DISTANCE\n",
    "FROM \n",
    "    VECTEST.EXPO_INFOでは\n",
    "WHERE \n",
    "    カテゴリー = '海外パビリオン' \n",
    "ORDER BY \n",
    "    DISTANCE ASC\n",
    "FETCH FIRST 5 ROWS ONLY\n",
    "```\n"
   ]
  },
  {
   "cell_type": "code",
   "execution_count": null,
   "id": "d818095b",
   "metadata": {},
   "outputs": [],
   "source": [
    "sql_str = f\"\"\"\n",
    "SELECT \n",
    "    ID, カテゴリー, パビリオン名, 主観評価, 事前予約, 見学タイプ, 混雑度, 見どころ, 詳細, おとな向け評価, おとなコメント, 中高生向け評価, 中高生コメント, 子連れ向け評価, 子連れコメント,\n",
    "    VECTOR_DISTANCE(\n",
    "        (SELECT EMBEDDING FROM VECTEST.EXPO_INFO WHERE パビリオン名 = 'イタリア  バチカン'),\n",
    "        EMBEDDING, \n",
    "        COSINE\n",
    "    ) AS DISTANCE\n",
    "FROM \n",
    "    VECTEST.EXPO_INFO\n",
    "WHERE \n",
    "    カテゴリー = '海外パビリオン' \n",
    "    /* AND 混雑度 NOT LIKE '%混雑%' */\n",
    "ORDER BY \n",
    "    DISTANCE ASC\n",
    "FETCH FIRST 5 ROWS ONLY\n",
    "\"\"\"\n",
    "\n",
    "%sql {sql_str}"
   ]
  },
  {
   "cell_type": "markdown",
   "id": "1ee1d27b",
   "metadata": {},
   "source": [
    "    \n",
    "#### 6-2. 「砂漠の砂に座りたい」ので、万博情報から「砂漠の砂に座りたい」で検索\n",
    "\n",
    "\n",
    "-「砂漠の砂に座りたい」という文字をベクトル化して、そのデータとEXPO_INFOのEMBEDDING列との距離を出して、その距離が近いものが”似ている”ということになります。\n",
    "\n",
    "\n",
    "- [VECTOR_DISTANCE ](https://www.ibm.com/docs/en/db2/12.1.0?topic=functions-vector-distance)　を使います\n",
    "\n",
    "\n",
    "基本のSQL:\n",
    "```\n",
    "SELECT <取得したい列名1>, <取得したい列名2> ...... \n",
    "VECTOR_DISTANCE(<ベクトルデータが入った列名>, \n",
    "VECTOR('<ベクトル配列の文字列>',<ベクトル次元数>, <ベクトル値のデータタイプ>), <距離メトリック>) as distance\n",
    "FROM <テーブル名>\n",
    "ORDER BY distance\n",
    "FETCH FIRST <取得したい最大行数> ROWS ONLY;\n",
    "```\n"
   ]
  },
  {
   "cell_type": "markdown",
   "id": "aa17aa8c",
   "metadata": {},
   "source": [
    "##### 6-2-1. 文字列をベクトル化してクリップボードに貼り付け　かつ　ベクトル値を戻す関数\n",
    "SQLではベクトル化できないので、以下を使います   "
   ]
  },
  {
   "cell_type": "code",
   "execution_count": null,
   "id": "dea60b86",
   "metadata": {},
   "outputs": [],
   "source": [
    "import pyperclip\n",
    "import os\n",
    "os.environ[\"TOKENIZERS_PARALLELISM\"] = \"false\"\n",
    "\n",
    "def get_vector_data(query_str):\n",
    "    vec_data = embeddings.embed_query(query_str)\n",
    "    pyperclip.copy(vec_data) # クリップボードに貼り付け\n",
    "    print(\"copied!\")\n",
    "    return vec_data  # ベクトルデータを戻す"
   ]
  },
  {
   "cell_type": "code",
   "execution_count": null,
   "id": "5069d66e",
   "metadata": {},
   "outputs": [],
   "source": [
    "# ベクトル化された文字列が、クリップボードにコピーされます\n",
    "vecdata = get_vector_data(\"砂漠の砂に座りたい\")"
   ]
  },
  {
   "cell_type": "markdown",
   "id": "c5332100",
   "metadata": {},
   "source": [
    "DBeaverでやってみましょう!\n",
    "\n",
    "```sql\n",
    "SELECT ID, カテゴリー, パビリオン名, 主観評価, \n",
    "事前予約, 見学タイプ, 混雑度, 見どころ, 詳細, \n",
    "おとな向け評価, おとなコメント, 中高生向け評価, 中高生コメント, 子連れ向け評価, 子連れコメント, \n",
    "VECTOR_DISTANCE(EMBEDDING, \n",
    "VECTOR('<ベクトル配列の文字列をコピペ>',\n",
    "1024, FLOAT32), COSINE) as distance\n",
    "FROM VECTEST.EXPO_INFO\n",
    "ORDER BY distance\n",
    "FETCH FIRST 4 ROWS ONLY;\n",
    "```"
   ]
  },
  {
   "cell_type": "code",
   "execution_count": null,
   "id": "5dda183d",
   "metadata": {},
   "outputs": [],
   "source": [
    "# せっかくなので　pythonでもquery\n",
    "\n",
    "sql_str = f\"\"\"\n",
    "SELECT ID, カテゴリー, パビリオン名, 主観評価, \n",
    "事前予約, 見学タイプ, 混雑度, 見どころ, 詳細, \n",
    "おとな向け評価, おとなコメント, 中高生向け評価, 中高生コメント, 子連れ向け評価, 子連れコメント, \n",
    "VECTOR_DISTANCE(EMBEDDING, \n",
    "VECTOR('{vecdata}',1024, FLOAT32), COSINE) as distance\n",
    "FROM VECTEST.EXPO_INFO\n",
    "ORDER BY distance\n",
    "FETCH FIRST 4 ROWS ONLY;\n",
    "\"\"\"\n",
    "\n",
    "print(sql_str)"
   ]
  },
  {
   "cell_type": "code",
   "execution_count": null,
   "id": "08241560",
   "metadata": {},
   "outputs": [],
   "source": [
    "\n",
    "#sql実行\n",
    "%sql {sql_str}\n"
   ]
  }
 ],
 "metadata": {
  "kernelspec": {
   "display_name": ".venv",
   "language": "python",
   "name": "python3"
  },
  "language_info": {
   "codemirror_mode": {
    "name": "ipython",
    "version": 3
   },
   "file_extension": ".py",
   "mimetype": "text/x-python",
   "name": "python",
   "nbconvert_exporter": "python",
   "pygments_lexer": "ipython3",
   "version": "3.11.4"
  }
 },
 "nbformat": 4,
 "nbformat_minor": 5
}
