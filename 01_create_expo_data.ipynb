{
 "cells": [
  {
   "cell_type": "markdown",
   "id": "c99e0ab8",
   "metadata": {},
   "source": [
    "Qiita [Db2 v12.1.2でベクトルデータが入るようになったので、SQLでいろいろやってみた](https://qiita.com/nishikyon/items/8fdb36aaffd59e617418)の「1. (前準備)テーブル準備」のCSVファイル作成部分です\n",
    "\n",
    "# 01. 万博情報データ作成\n",
    "\n",
    "Xより　@takacho_01　さんが公開している<br>\n",
    "【大阪万博のパビリオンまとめ表】<br>\n",
    "（2025.07.29更新／完成版）<br>\n",
    "- https://x.com/takacho_01/status/1950160001059672529\n",
    "- https://x.com/takacho_01/status/1950181115446071371\n",
    "\n",
    "こちらのデータを取得します.\n",
    "\n",
    "尚、個人の方が公開しているファイルのため、今後(万博終了後?)取得できなく可能性が高いです"
   ]
  },
  {
   "cell_type": "code",
   "execution_count": null,
   "id": "e995c01b",
   "metadata": {},
   "outputs": [],
   "source": [
    "expo_info_file=\"EXPO2025／海外パビリオン一覧.xlsx\""
   ]
  },
  {
   "cell_type": "code",
   "execution_count": null,
   "id": "0f62c494",
   "metadata": {},
   "outputs": [],
   "source": [
    "expo_info_file=\"EXPO2025／海外パビリオン一覧.xlsx\"\n",
    "!wget \"https://docs.google.com/spreadsheets/d/1lMaWkOekdDhxWcCQfAsVI5tgjq_J8hq_wqfqWsDpAPE/export?format=xlsx\" -O {expo_info_file}\n"
   ]
  },
  {
   "cell_type": "markdown",
   "id": "fc4a4c58",
   "metadata": {},
   "source": [
    "Db2に読み込めるように加工します！\n",
    "\n",
    "今後フォーマット変更された場合は修正の必要があります"
   ]
  },
  {
   "cell_type": "code",
   "execution_count": null,
   "id": "ca76d5aa",
   "metadata": {},
   "outputs": [],
   "source": [
    "import pandas as pd\n",
    "\n",
    "# ヘッダー行のインデックス（3行目）\n",
    "header_row = 2\n",
    "\n",
    "# 各シートの読み込み制限行数\n",
    "sheet_limits = {\n",
    "    \"海外パビリオン\": 65 - header_row -1 ,\n",
    "    \"シグネチャー\": 16 - header_row -1,\n",
    "    \"企業・イベント系\": 27 - header_row -1\n",
    "}\n",
    "\n",
    "\n",
    "# 各シートを指定行数まで読み込み\n",
    "sheet_dfs = {\n",
    "    sheet_name: pd.read_excel(expo_info_file, sheet_name=sheet_name, header=header_row, nrows=sheet_limits[sheet_name], engine=\"openpyxl\")\n",
    "    for sheet_name in sheet_limits\n",
    "}\n",
    "\n",
    "# 「シグネチャー」シートの「詳細」列に「（5段階）」列の値を追記し、「（5段階）」列を削除\n",
    "signature_df = sheet_dfs.get(\"シグネチャー\")\n",
    "if signature_df is not None and \"詳細\" in signature_df.columns and \"（5段階）\" in signature_df.columns:\n",
    "    signature_df[\"詳細\"] = signature_df[\"詳細\"].astype(str) + \"\\n難易度5段階: \" + signature_df[\"（5段階）\"].astype(str)\n",
    "    signature_df.drop(columns=[\"（5段階）\"], inplace=True)\n",
    "    signature_df.insert(4, \"混雑度\", '')\n",
    "    \n",
    "\n",
    "# 統一ヘッダー\n",
    "new_headers = [\n",
    "    \"パビリオン名\", \"主観評価\", \"事前予約\", \"見学タイプ\", \"混雑度\", \"見どころ\", \"詳細\",\n",
    "    \"おとな向け評価\", \"おとなコメント\", \"中高生向け評価\", \"中高生コメント\",\n",
    "    \"子連れ向け評価\", \"子連れコメント\"\n",
    "]\n",
    "\n",
    "for sheet_name, df in sheet_dfs.items():\n",
    "    if len(df.columns) == len(new_headers):\n",
    "        df.columns = new_headers\n",
    "      \n",
    "\n",
    "# カテゴリー列を追加\n",
    "for sheet_name, df in sheet_dfs.items():\n",
    "    df.insert(0, \"カテゴリー\", sheet_name)\n",
    "\n",
    "# 全シート統合\n",
    "combined_df = pd.concat(sheet_dfs.values(), ignore_index=True)\n",
    "\n",
    "\n",
    "\n",
    "\n",
    "\n",
    "# 改行コードをスペースに置換（文字列型のみ処理）\n",
    "for col in combined_df.columns:\n",
    "    combined_df[col] = combined_df[col].apply(\n",
    "        lambda x: x.replace('\\n', ' ') if isinstance(x, str) else x\n",
    "    )\n",
    "\n",
    "\n",
    "\n",
    "# ID列を追加（001からの連番文字列）\n",
    "combined_df.insert(0, \"ID\", [f\"ID{i:03d}\" for i in range(1, len(combined_df) + 1)])\n",
    "\n",
    "\n",
    "# CSVとついでにExcelに保存\n",
    "combined_df.to_csv(\"expo_info.csv\", index=False, encoding=\"utf-8\")\n",
    "combined_df.to_excel(\"expo_info.xlsx\", index=False)\n"
   ]
  }
 ],
 "metadata": {
  "kernelspec": {
   "display_name": ".venv",
   "language": "python",
   "name": "python3"
  },
  "language_info": {
   "codemirror_mode": {
    "name": "ipython",
    "version": 3
   },
   "file_extension": ".py",
   "mimetype": "text/x-python",
   "name": "python",
   "nbconvert_exporter": "python",
   "pygments_lexer": "ipython3",
   "version": "3.11.4"
  }
 },
 "nbformat": 4,
 "nbformat_minor": 5
}
