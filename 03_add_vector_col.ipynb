{
 "cells": [
  {
   "cell_type": "markdown",
   "id": "e74cfcd5",
   "metadata": {},
   "source": [
    "テーブル作成とデータロードQiita [Db2 v12.1.2でベクトルデータが入るようになったので、SQLでいろいろやってみた](https://qiita.com/nishikyon/items/8fdb36aaffd59e617418)の「2. ALTER TABLEして、カラムのデータをベクトル化して追加」のコードです\n",
    "\n",
    "\n",
    "# 03. ALTER TABLEして、カラムのデータをベクトル化して追加"
   ]
  },
  {
   "cell_type": "markdown",
   "id": "de68311f",
   "metadata": {},
   "source": [
    "### 1. Embeddingモデルを作成\n",
    "- 現状はSQLだけではベクトルデータが作成できません。\n",
    "- HuggingFaceのEmbeddingsモデル　ここでは`intfloat/multilingual-e5-large`を使います\n",
    "\n",
    "- https://huggingface.co/intfloat/multilingual-e5-large\n"
   ]
  },
  {
   "cell_type": "code",
   "execution_count": null,
   "id": "025d5538",
   "metadata": {},
   "outputs": [],
   "source": [
    "from langchain_huggingface import HuggingFaceEmbeddings\n",
    "from tqdm import tqdm\n",
    "\n",
    "embeddings = HuggingFaceEmbeddings(model_name=\"intfloat/multilingual-e5-large\")"
   ]
  },
  {
   "cell_type": "markdown",
   "id": "85baebc5",
   "metadata": {},
   "source": [
    "### 2. Jupyter NotebookでDb2 Magic Commands拡張機能を有効にする\n",
    "Jupyter NotebookからSQLをわかりやすく打てるように、Db2 Magic Commands拡張機能を有効にします。(Db2 ベクトルデータとは関係ないです。）\n",
    "\n",
    "参考: [Jupyter NotebookからDb2に簡単アクセス](https://qiita.com/nishikyon/items/b0d0262950e890349f29)"
   ]
  },
  {
   "cell_type": "code",
   "execution_count": null,
   "id": "5c0a25de",
   "metadata": {},
   "outputs": [],
   "source": [
    "import os\n",
    "# Jupyter NotebookでDb2 Magic Commands拡張機能を有効にする\n",
    "if not os.path.isfile('db2.ipynb'):\n",
    "    os.system('wget https://raw.githubusercontent.com/IBM/db2-jupyter/master/db2.ipynb')\n",
    "\n",
    "%run db2.ipynb"
   ]
  },
  {
   "cell_type": "markdown",
   "id": "987febc9",
   "metadata": {},
   "source": [
    "### 3. Db2へ接続\n",
    ".envファイル(または環境変数)から必要情報を読み取って、Db2に接続します。"
   ]
  },
  {
   "cell_type": "code",
   "execution_count": null,
   "id": "fb004bed",
   "metadata": {},
   "outputs": [],
   "source": [
    "from dotenv import dotenv_values\n",
    "\n",
    "# .envファイルを読み込む\n",
    "# 事前にsample_env を 参考に .envを作成しておく\n",
    "\n",
    "con_str = dotenv_values(\".env\")\n",
    "database = con_str.get(\"database\")\n",
    "user=con_str.get(\"uid\")\n",
    "password=con_str.get(\"pwd\")\n",
    "host=con_str.get(\"hostname\")\n",
    "port=con_str.get(\"port\")\n",
    "\n",
    "# SSL接続の場合はSSL TRUEを最後に付与する\n",
    "%sql CONNECT TO {database} USER {user} USING {password} HOST {host} port {port}"
   ]
  },
  {
   "cell_type": "markdown",
   "id": "1ee1d27b",
   "metadata": {},
   "source": [
    "### 4. SELECTで確認:  VECTEST.EXPO_INFO\n",
    "\n",
    "SELECT文でVECTEST.EXPO_INFOの中身を確認してみます"
   ]
  },
  {
   "cell_type": "code",
   "execution_count": null,
   "id": "8869b598",
   "metadata": {},
   "outputs": [],
   "source": [
    "%sql SELECT * FROM VECTEST.EXPO_INFO"
   ]
  },
  {
   "cell_type": "markdown",
   "id": "e1cabbea",
   "metadata": {},
   "source": [
    "### 5.  VECTEST.EXPO_INFO に　`VECTOR` 列の追加\n",
    "\n",
    "ベクトルデータを入れる列はデータ型[VECTOR](https://www.ibm.com/docs/ja/db2/12.1.0?topic=list-vector-values#c_vectors__title__4)で定義します。\n",
    "\n",
    "Syntax\n",
    "```\n",
    "VECTOR (< ベクトルデータの次元数 > ,< coordinate-type　FLOAT32 または INT8 >)\n",
    "```\n",
    "SQLのALTER TABLEコマンドで追加します(DBeaverなどで直接SQLを実行してもOK):"
   ]
  },
  {
   "cell_type": "code",
   "execution_count": null,
   "id": "d4ee4e35",
   "metadata": {},
   "outputs": [],
   "source": [
    "%%sql\n",
    "ALTER TABLE VECTEST.EXPO_INFO\n",
    "ADD COLUMN EMBEDDING VECTOR(1024, FLOAT32);"
   ]
  },
  {
   "cell_type": "markdown",
   "id": "df5e8982",
   "metadata": {},
   "source": [
    "確認(DBeaverなどで直接SQLを実行してもOK):"
   ]
  },
  {
   "cell_type": "code",
   "execution_count": null,
   "id": "a42b9511",
   "metadata": {},
   "outputs": [],
   "source": [
    "# 確認\n",
    "%sql SELECT * FROM VECTEST.EXPO_INFO FETCH FIRST 3 ROWS ONLY"
   ]
  },
  {
   "cell_type": "markdown",
   "id": "de088832",
   "metadata": {},
   "source": [
    "テーブル構成の確認 (これはDBeaverでは動作しません、Db2 CLPであればOK):"
   ]
  },
  {
   "cell_type": "code",
   "execution_count": null,
   "id": "6449d6fa",
   "metadata": {},
   "outputs": [],
   "source": [
    "%sql DESCRIBE TABLE VECTEST.EXPO_INFO"
   ]
  },
  {
   "cell_type": "markdown",
   "id": "18a67968",
   "metadata": {},
   "source": [
    "### 6.  VECTEST.EXPO_INFO から　特徴を表す列をベクトル化する\n",
    "\n",
    "ここでは以下の列をJSON化して、ベクトル化します:\n",
    "\n",
    "- 見どころ\n",
    "- 詳細\n",
    "- おとな向け評価\n",
    "- おとなコメント\n",
    "- 中高生向け評価\n",
    "- 中高生コメント\n",
    "- 子連れ向け評価\n",
    "- 子連れコメント"
   ]
  },
  {
   "cell_type": "markdown",
   "id": "51da3fb2",
   "metadata": {},
   "source": [
    "#### 6-1. 特徴を表す列をJSONに加工する\n",
    "[JSON_OBJECT関数](https://www.ibm.com/docs/ja/db2/12.1.0?topic=sf-json-object)を使ってSQLでJSONにします。\n",
    "\n",
    "[JSON_OBJECT関数](https://www.ibm.com/docs/ja/db2/12.1.0?topic=sf-json-object)がDb2 Magic Commandでは使えなかったため、sqlalchemyでSQLを実行しています。"
   ]
  },
  {
   "cell_type": "code",
   "execution_count": null,
   "id": "de2dfe46",
   "metadata": {},
   "outputs": [],
   "source": [
    "import pandas as pd\n",
    "from sqlalchemy import create_engine\n",
    "from urllib.parse import quote_plus\n",
    "\n",
    "# DB2の接続情報を設定\n",
    "password_q = quote_plus(password)\n",
    "\n",
    "# SQLAlchemyのエンジンを作成\n",
    "url = f\"ibm_db_sa://{user}:{password_q}@{host}:{port}/{database}\"\n",
    "engine = create_engine(url)\n",
    "\n",
    "sql_str = \"\"\"\n",
    "SELECT \n",
    "       ID,\n",
    "       JSON_OBJECT(\n",
    "         '見どころ' VALUE 見どころ,\n",
    "         '詳細' VALUE 詳細,\n",
    "         'おとな向け評価' VALUE おとな向け評価,\n",
    "         'おとなコメント' VALUE おとなコメント,\n",
    "         '中高生向け評価' VALUE 中高生向け評価,\n",
    "         '中高生コメント' VALUE 中高生コメント,\n",
    "         '子連れ向け評価' VALUE 子連れ向け評価,\n",
    "         '子連れコメント' VALUE 子連れコメント\n",
    "       ) AS JSON_RESULT\n",
    "FROM VECTEST.EXPO_INFO;\n",
    "\"\"\"\n",
    "# pandas.read_sql() を使用してpandas Dataframe型のdf_vecにSELECTの結果を入れる\n",
    "df_vec_text = pd.read_sql(sql_str, engine)\n",
    "\n",
    "# 最初の1行のJSON表示\n",
    "print( df_vec_text.at[0,'json_result'])\n",
    "\n",
    "# DataFrame表示\n",
    "df_vec_text"
   ]
  },
  {
   "cell_type": "markdown",
   "id": "878aae5c",
   "metadata": {},
   "source": [
    "#### 6-2. df_vec_textのjson_result列をベクトル化\n",
    "\n",
    "id(主キー)とson_result列をベクトル化したデータEMBEDDING列の2列のDataFrameを作ります。"
   ]
  },
  {
   "cell_type": "code",
   "execution_count": null,
   "id": "62392d1a",
   "metadata": {},
   "outputs": [],
   "source": [
    "# json_result列をベクトル化してEMBEDDING列を作り、\n",
    "# id(主キー)とson_result列をベクトル化したデータEMBEDDING列の2列のDataFrameを作ります。\n",
    "list_vec_text = df_vec_text['json_result'].tolist()\n",
    "expo_vectors = embeddings.embed_documents(texts=list_vec_text)\n",
    "df_vec_text['EMBEDDING'] = expo_vectors\n",
    "df_vec_text['EMBEDDING'] =df_vec_text['EMBEDDING'].apply(lambda x: '[' + ', '.join(map(str, x)) + ']')\n",
    "df_vec_text.drop(columns=['json_result'], inplace=True)\n",
    "\n",
    "df_vec_text"
   ]
  },
  {
   "cell_type": "markdown",
   "id": "46b858c1",
   "metadata": {},
   "source": [
    "### 6-3. ベクトル化した値でEMBEDDING列を更新\n",
    "\n",
    "更新はibm_dbライブラリを使用し、SQLのMERGE文で実施します。\n",
    "\n",
    "DataFrameの値を使用した更新は、MERGE文が速いとのことです。"
   ]
  },
  {
   "cell_type": "code",
   "execution_count": null,
   "id": "de88cee9",
   "metadata": {},
   "outputs": [],
   "source": [
    "# そして今度は更新用にibm_dbで接続を取得します ....\n",
    "    \n",
    "import pandas as pd\n",
    "import ibm_db\n",
    "\n",
    "# Db2への接続（接続情報は適宜変更してください）\n",
    "conn_str = f\"DATABASE={database};HOSTNAME={host};PORT={port};PROTOCOL=TCPIP;UID={user};PWD={password};\"\n",
    "DB_connection_I = ibm_db.connect(conn_str, \"\", \"\")\n"
   ]
  },
  {
   "cell_type": "code",
   "execution_count": null,
   "id": "f8227b17",
   "metadata": {},
   "outputs": [],
   "source": [
    "\n",
    "# MERGE文のVALUES部分を構築（行数に応じて ? を繰り返す）\n",
    "values_clause = \",\".join([\"(?, ?)\"] * len(df_vec_text))\n",
    "# print(f\"values_clause: {values_clause}\")\n",
    "\n",
    "\n",
    "# MERGE文の定義\n",
    "sql = f\"\"\"\n",
    "MERGE INTO  VECTEST.EXPO_INFO AS T1\n",
    "USING (VALUES {values_clause}) AS T2(ID, EMBEDDING)\n",
    "ON T1.ID = T2.ID\n",
    "WHEN MATCHED THEN\n",
    "  UPDATE SET T1.EMBEDDING = VECTOR(T2.EMBEDDING,  1024, FLOAT32)\n",
    "\"\"\"\n",
    "\n",
    "# プレースホルダーに渡す値をフラットなリストに変換\n",
    "params = [item for row in df_vec_text.itertuples(index=False) for item in row]\n",
    "\n",
    "# ステートメント準備と実行\n",
    "stmt = ibm_db.prepare(DB_connection_I, sql)\n",
    "ibm_db.execute(stmt, tuple(params))\n"
   ]
  },
  {
   "cell_type": "markdown",
   "id": "7518bce7",
   "metadata": {},
   "source": [
    "確認　(DBeaverなどで直接SQLを実行してもOK):"
   ]
  },
  {
   "cell_type": "code",
   "execution_count": null,
   "id": "f79d4b05",
   "metadata": {},
   "outputs": [],
   "source": [
    "%sql SELECT * FROM VECTEST.EXPO_INFO FETCH FIRST 3 ROWS ONLY"
   ]
  }
 ],
 "metadata": {
  "kernelspec": {
   "display_name": ".venv",
   "language": "python",
   "name": "python3"
  },
  "language_info": {
   "codemirror_mode": {
    "name": "ipython",
    "version": 3
   },
   "file_extension": ".py",
   "mimetype": "text/x-python",
   "name": "python",
   "nbconvert_exporter": "python",
   "pygments_lexer": "ipython3",
   "version": "3.11.4"
  }
 },
 "nbformat": 4,
 "nbformat_minor": 5
}
