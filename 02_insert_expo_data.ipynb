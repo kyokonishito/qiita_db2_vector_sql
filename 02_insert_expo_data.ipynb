{
 "cells": [
  {
   "cell_type": "markdown",
   "id": "d7c7f0ed",
   "metadata": {},
   "source": [
    "Qiita [Db2 v12.1.2でベクトルデータが入るようになったので、SQLでいろいろやってみた](https://qiita.com/nishikyon/items/8fdb36aaffd59e617418)の「1. (前準備)テーブル準備」のテーブル作成とデータロード部分です\n",
    "\n",
    "# 02. 万博テーブル作成とデータロード"
   ]
  },
  {
   "cell_type": "markdown",
   "id": "4a5196a7",
   "metadata": {},
   "source": [
    "### 1. Jupyter NotebookでDb2 Magic Commands拡張機能を有効にする\n",
    "参考: [Jupyter NotebookからDb2に簡単アクセス](https://qiita.com/nishikyon/items/b0d0262950e890349f29)"
   ]
  },
  {
   "cell_type": "code",
   "execution_count": null,
   "id": "677cc96b",
   "metadata": {},
   "outputs": [],
   "source": [
    "import os\n",
    "# Jupyter NotebookでDb2 Magic Commands拡張機能を有効にする\n",
    "if not os.path.isfile('db2.ipynb'):\n",
    "    os.system('wget https://raw.githubusercontent.com/IBM/db2-jupyter/master/db2.ipynb')\n",
    "\n",
    "%run db2.ipynb"
   ]
  },
  {
   "cell_type": "markdown",
   "id": "02a7267a",
   "metadata": {},
   "source": [
    "### 2. Db2へ接続"
   ]
  },
  {
   "cell_type": "code",
   "execution_count": null,
   "id": "660d626b",
   "metadata": {},
   "outputs": [],
   "source": [
    "from dotenv import dotenv_values\n",
    "\n",
    "# .envファイルを読み込む\n",
    "# 事前にsample_env を 参考に .envを作成しておく\n",
    "con_str = dotenv_values(\".env\")\n",
    "database = con_str.get(\"database\")\n",
    "user=con_str.get(\"uid\")\n",
    "password=con_str.get(\"pwd\")\n",
    "host=con_str.get(\"hostname\")\n",
    "port=con_str.get(\"port\")\n",
    "\n",
    "# SSL接続の場合はSSL TRUEを最後に付与する\n",
    "%sql CONNECT TO {database} USER {user} USING {password} HOST {host} port {port}"
   ]
  },
  {
   "cell_type": "markdown",
   "id": "d342f6ba",
   "metadata": {},
   "source": [
    "### 2. 万博情報テーブル　`VECTEST.EXPO_INFO` 作成"
   ]
  },
  {
   "cell_type": "code",
   "execution_count": null,
   "id": "af740d8b",
   "metadata": {},
   "outputs": [],
   "source": [
    "%%sql\n",
    "DROP TABLE VECTEST.EXPO_INFO ;\n",
    "CREATE TABLE VECTEST.EXPO_INFO(\n",
    "    \"ID\" CHAR(5) NOT NULL,\n",
    "    \"カテゴリー\" VARCHAR(54),\n",
    "    \"パビリオン名\" VARCHAR(255),\n",
    "    \"主観評価\" VARCHAR(54),\n",
    "    \"事前予約\" VARCHAR(24),\n",
    "    \"見学タイプ\" VARCHAR(24),\n",
    "    \"混雑度\" VARCHAR(24),\n",
    "    \"見どころ\" VARCHAR(255),\n",
    "    \"詳細\" VARCHAR(1200),\n",
    "    \"おとな向け評価\" VARCHAR(12),\n",
    "    \"おとなコメント\" VARCHAR(255),\n",
    "    \"中高生向け評価\" VARCHAR(12),\n",
    "    \"中高生コメント\" VARCHAR(255),\n",
    "    \"子連れ向け評価\" VARCHAR(12),\n",
    "    \"子連れコメント\" VARCHAR(255),\n",
    "    PRIMARY KEY (\"ID\")\n",
    ");"
   ]
  },
  {
   "cell_type": "markdown",
   "id": "a06f9619",
   "metadata": {},
   "source": [
    "### 3. 万博情報テーブル　`VECTEST.EXPO_INFO`　に　`expo_info.csv`のINSERT"
   ]
  },
  {
   "cell_type": "code",
   "execution_count": null,
   "id": "8256d4b6",
   "metadata": {},
   "outputs": [],
   "source": [
    "import pandas as pd\n",
    "expo_df = pd.read_csv(\"expo_info.csv\")\n",
    "%sql USING expo_df APPEND TABLE VECTEST.EXPO_INFO"
   ]
  },
  {
   "cell_type": "markdown",
   "id": "ffbd7530",
   "metadata": {},
   "source": [
    "### 4. SELECTで確認"
   ]
  },
  {
   "cell_type": "code",
   "execution_count": null,
   "id": "95ae75b4",
   "metadata": {},
   "outputs": [],
   "source": [
    "%sql SELECT * FROM VECTEST.EXPO_INFO"
   ]
  }
 ],
 "metadata": {
  "kernelspec": {
   "display_name": ".venv",
   "language": "python",
   "name": "python3"
  },
  "language_info": {
   "codemirror_mode": {
    "name": "ipython",
    "version": 3
   },
   "file_extension": ".py",
   "mimetype": "text/x-python",
   "name": "python",
   "nbconvert_exporter": "python",
   "pygments_lexer": "ipython3",
   "version": "3.11.4"
  }
 },
 "nbformat": 4,
 "nbformat_minor": 5
}
